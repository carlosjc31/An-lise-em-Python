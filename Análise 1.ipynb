{
 "cells": [
  {
   "cell_type": "code",
   "execution_count": 57,
   "metadata": {},
   "outputs": [],
   "source": [
    "import pandas as pd\n",
    "import numpy as np\n",
    "import matplotlib.pyplot as plt\n",
    "import seaborn as sns"
   ]
  },
  {
   "cell_type": "code",
   "execution_count": 6,
   "metadata": {},
   "outputs": [],
   "source": [
    "df = pd.read_csv('C:/Users/carlo/Desktop/Machine Learning/VBA Excel/salesdata.csv')"
   ]
  },
  {
   "cell_type": "code",
   "execution_count": 4,
   "metadata": {},
   "outputs": [
    {
     "data": {
      "text/html": [
       "<div>\n",
       "<style scoped>\n",
       "    .dataframe tbody tr th:only-of-type {\n",
       "        vertical-align: middle;\n",
       "    }\n",
       "\n",
       "    .dataframe tbody tr th {\n",
       "        vertical-align: top;\n",
       "    }\n",
       "\n",
       "    .dataframe thead th {\n",
       "        text-align: right;\n",
       "    }\n",
       "</style>\n",
       "<table border=\"1\" class=\"dataframe\">\n",
       "  <thead>\n",
       "    <tr style=\"text-align: right;\">\n",
       "      <th></th>\n",
       "      <th>Order Date</th>\n",
       "      <th>Customer Name</th>\n",
       "      <th>State</th>\n",
       "      <th>Category</th>\n",
       "      <th>Sub-Category</th>\n",
       "      <th>Product Name</th>\n",
       "      <th>Sales</th>\n",
       "      <th>Quantity</th>\n",
       "      <th>Profit</th>\n",
       "    </tr>\n",
       "  </thead>\n",
       "  <tbody>\n",
       "    <tr>\n",
       "      <th>0</th>\n",
       "      <td>03-01-2014</td>\n",
       "      <td>Darren Powers</td>\n",
       "      <td>Texas</td>\n",
       "      <td>Office Supplies</td>\n",
       "      <td>Paper</td>\n",
       "      <td>Message Book, Wirebound, Four 5 1/2\" X 4\" Form...</td>\n",
       "      <td>16.45</td>\n",
       "      <td>2</td>\n",
       "      <td>5.55</td>\n",
       "    </tr>\n",
       "    <tr>\n",
       "      <th>1</th>\n",
       "      <td>04-01-2014</td>\n",
       "      <td>Phillina Ober</td>\n",
       "      <td>Illinois</td>\n",
       "      <td>Office Supplies</td>\n",
       "      <td>Labels</td>\n",
       "      <td>Avery 508</td>\n",
       "      <td>11.78</td>\n",
       "      <td>3</td>\n",
       "      <td>4.27</td>\n",
       "    </tr>\n",
       "    <tr>\n",
       "      <th>2</th>\n",
       "      <td>04-01-2014</td>\n",
       "      <td>Phillina Ober</td>\n",
       "      <td>Illinois</td>\n",
       "      <td>Office Supplies</td>\n",
       "      <td>Storage</td>\n",
       "      <td>SAFCO Boltless Steel Shelving</td>\n",
       "      <td>272.74</td>\n",
       "      <td>3</td>\n",
       "      <td>-64.77</td>\n",
       "    </tr>\n",
       "    <tr>\n",
       "      <th>3</th>\n",
       "      <td>04-01-2014</td>\n",
       "      <td>Phillina Ober</td>\n",
       "      <td>Illinois</td>\n",
       "      <td>Office Supplies</td>\n",
       "      <td>Binders</td>\n",
       "      <td>GBC Standard Plastic Binding Systems Combs</td>\n",
       "      <td>3.54</td>\n",
       "      <td>2</td>\n",
       "      <td>-5.49</td>\n",
       "    </tr>\n",
       "    <tr>\n",
       "      <th>4</th>\n",
       "      <td>05-01-2014</td>\n",
       "      <td>Mick Brown</td>\n",
       "      <td>Pennsylvania</td>\n",
       "      <td>Office Supplies</td>\n",
       "      <td>Art</td>\n",
       "      <td>Avery Hi-Liter EverBold Pen Style Fluorescent ...</td>\n",
       "      <td>19.54</td>\n",
       "      <td>3</td>\n",
       "      <td>4.88</td>\n",
       "    </tr>\n",
       "  </tbody>\n",
       "</table>\n",
       "</div>"
      ],
      "text/plain": [
       "   Order Date  Customer Name         State         Category Sub-Category  \\\n",
       "0  03-01-2014  Darren Powers         Texas  Office Supplies        Paper   \n",
       "1  04-01-2014  Phillina Ober      Illinois  Office Supplies       Labels   \n",
       "2  04-01-2014  Phillina Ober      Illinois  Office Supplies      Storage   \n",
       "3  04-01-2014  Phillina Ober      Illinois  Office Supplies      Binders   \n",
       "4  05-01-2014     Mick Brown  Pennsylvania  Office Supplies          Art   \n",
       "\n",
       "                                        Product Name   Sales  Quantity  Profit  \n",
       "0  Message Book, Wirebound, Four 5 1/2\" X 4\" Form...   16.45         2    5.55  \n",
       "1                                          Avery 508   11.78         3    4.27  \n",
       "2                      SAFCO Boltless Steel Shelving  272.74         3  -64.77  \n",
       "3         GBC Standard Plastic Binding Systems Combs    3.54         2   -5.49  \n",
       "4  Avery Hi-Liter EverBold Pen Style Fluorescent ...   19.54         3    4.88  "
      ]
     },
     "execution_count": 4,
     "metadata": {},
     "output_type": "execute_result"
    }
   ],
   "source": [
    "df.head()"
   ]
  },
  {
   "cell_type": "code",
   "execution_count": 5,
   "metadata": {},
   "outputs": [
    {
     "data": {
      "text/html": [
       "<div>\n",
       "<style scoped>\n",
       "    .dataframe tbody tr th:only-of-type {\n",
       "        vertical-align: middle;\n",
       "    }\n",
       "\n",
       "    .dataframe tbody tr th {\n",
       "        vertical-align: top;\n",
       "    }\n",
       "\n",
       "    .dataframe thead th {\n",
       "        text-align: right;\n",
       "    }\n",
       "</style>\n",
       "<table border=\"1\" class=\"dataframe\">\n",
       "  <thead>\n",
       "    <tr style=\"text-align: right;\">\n",
       "      <th></th>\n",
       "      <th>Order Date</th>\n",
       "      <th>Customer Name</th>\n",
       "      <th>State</th>\n",
       "      <th>Category</th>\n",
       "      <th>Sub-Category</th>\n",
       "      <th>Product Name</th>\n",
       "      <th>Sales</th>\n",
       "      <th>Quantity</th>\n",
       "      <th>Profit</th>\n",
       "    </tr>\n",
       "  </thead>\n",
       "  <tbody>\n",
       "    <tr>\n",
       "      <th>9989</th>\n",
       "      <td>30-12-2017</td>\n",
       "      <td>Patrick O'Donnell</td>\n",
       "      <td>New York</td>\n",
       "      <td>Technology</td>\n",
       "      <td>Phones</td>\n",
       "      <td>Gear Head AU3700S Headset</td>\n",
       "      <td>90.93</td>\n",
       "      <td>7</td>\n",
       "      <td>2.73</td>\n",
       "    </tr>\n",
       "    <tr>\n",
       "      <th>9990</th>\n",
       "      <td>30-12-2017</td>\n",
       "      <td>Patrick O'Donnell</td>\n",
       "      <td>New York</td>\n",
       "      <td>Office Supplies</td>\n",
       "      <td>Binders</td>\n",
       "      <td>Wilson Jones Legal Size Ring Binders</td>\n",
       "      <td>52.78</td>\n",
       "      <td>3</td>\n",
       "      <td>19.79</td>\n",
       "    </tr>\n",
       "    <tr>\n",
       "      <th>9991</th>\n",
       "      <td>30-12-2017</td>\n",
       "      <td>Erica Bern</td>\n",
       "      <td>California</td>\n",
       "      <td>Office Supplies</td>\n",
       "      <td>Binders</td>\n",
       "      <td>Cardinal Slant-D Ring Binder, Heavy Gauge Vinyl</td>\n",
       "      <td>13.90</td>\n",
       "      <td>2</td>\n",
       "      <td>4.52</td>\n",
       "    </tr>\n",
       "    <tr>\n",
       "      <th>9992</th>\n",
       "      <td>30-12-2017</td>\n",
       "      <td>Erica Bern</td>\n",
       "      <td>California</td>\n",
       "      <td>Office Supplies</td>\n",
       "      <td>Binders</td>\n",
       "      <td>GBC Binding covers</td>\n",
       "      <td>20.72</td>\n",
       "      <td>2</td>\n",
       "      <td>6.48</td>\n",
       "    </tr>\n",
       "    <tr>\n",
       "      <th>9993</th>\n",
       "      <td>30-12-2017</td>\n",
       "      <td>Jill Matthias</td>\n",
       "      <td>Colorado</td>\n",
       "      <td>Office Supplies</td>\n",
       "      <td>Fasteners</td>\n",
       "      <td>Bagged Rubber Bands</td>\n",
       "      <td>3.02</td>\n",
       "      <td>3</td>\n",
       "      <td>-0.60</td>\n",
       "    </tr>\n",
       "  </tbody>\n",
       "</table>\n",
       "</div>"
      ],
      "text/plain": [
       "      Order Date      Customer Name       State         Category Sub-Category  \\\n",
       "9989  30-12-2017  Patrick O'Donnell    New York       Technology       Phones   \n",
       "9990  30-12-2017  Patrick O'Donnell    New York  Office Supplies      Binders   \n",
       "9991  30-12-2017         Erica Bern  California  Office Supplies      Binders   \n",
       "9992  30-12-2017         Erica Bern  California  Office Supplies      Binders   \n",
       "9993  30-12-2017      Jill Matthias    Colorado  Office Supplies    Fasteners   \n",
       "\n",
       "                                         Product Name  Sales  Quantity  Profit  \n",
       "9989                        Gear Head AU3700S Headset  90.93         7    2.73  \n",
       "9990             Wilson Jones Legal Size Ring Binders  52.78         3   19.79  \n",
       "9991  Cardinal Slant-D Ring Binder, Heavy Gauge Vinyl  13.90         2    4.52  \n",
       "9992                               GBC Binding covers  20.72         2    6.48  \n",
       "9993                              Bagged Rubber Bands   3.02         3   -0.60  "
      ]
     },
     "execution_count": 5,
     "metadata": {},
     "output_type": "execute_result"
    }
   ],
   "source": [
    "df.tail()"
   ]
  },
  {
   "cell_type": "code",
   "execution_count": 10,
   "metadata": {},
   "outputs": [],
   "source": [
    "# Converte a coluna 'Order Date' para o tipo 'datetime64[ns]'\n",
    "#df['Order Date'] = df['Order Date'].astype('datetime64[ns]')\n",
    "df['Order Date'] = pd.to_datetime(df['Order Date'], format = '%d-%m-%Y')"
   ]
  },
  {
   "cell_type": "code",
   "execution_count": 11,
   "metadata": {},
   "outputs": [
    {
     "data": {
      "text/plain": [
       "Order Date       datetime64[ns]\n",
       "Customer Name            object\n",
       "State                    object\n",
       "Category                 object\n",
       "Sub-Category             object\n",
       "Product Name             object\n",
       "Sales                   float64\n",
       "Quantity                  int64\n",
       "Profit                  float64\n",
       "dtype: object"
      ]
     },
     "execution_count": 11,
     "metadata": {},
     "output_type": "execute_result"
    }
   ],
   "source": [
    "# Verifica a estrutura dos dados do DataFrame\n",
    "df.dtypes"
   ]
  },
  {
   "cell_type": "code",
   "execution_count": null,
   "metadata": {},
   "outputs": [],
   "source": []
  },
  {
   "cell_type": "code",
   "execution_count": 39,
   "metadata": {},
   "outputs": [
    {
     "name": "stdout",
     "output_type": "stream",
     "text": [
      "O produto mais vendido foi:\n",
      "                 Quantity\n",
      "Category                 \n",
      "Office Supplies     22906\n",
      "Furniture            8028\n",
      "Technology           6939\n"
     ]
    }
   ],
   "source": [
    "# Produto mais vendido por categoria\n",
    "#produto_mais_vendido = df.loc[:, ['Quantity']].groupby(df['Category']).sum()\n",
    "produto_mais_vendido = produto_mais_vendido.sort_values(by = 'Quantity', ascending = False)\n",
    "print(\"O produto mais vendido foi:\")\n",
    "print(produto_mais_vendido)"
   ]
  },
  {
   "cell_type": "code",
   "execution_count": 50,
   "metadata": {},
   "outputs": [
    {
     "name": "stdout",
     "output_type": "stream",
     "text": [
      "Order Date\n",
      "2017-11    1840\n",
      "2017-12    1723\n",
      "2017-09    1660\n",
      "2016-12    1414\n",
      "2016-11    1406\n",
      "2016-09    1316\n",
      "2015-11    1310\n",
      "2014-11    1219\n",
      "2015-12    1203\n",
      "2017-10    1133\n",
      "2015-09    1086\n",
      "2014-12    1079\n",
      "2014-09    1000\n",
      "2017-06     931\n",
      "2017-05     887\n",
      "2017-03     885\n",
      "2017-08     884\n",
      "2016-05     863\n",
      "2017-07     840\n",
      "2016-10     767\n",
      "2016-07     758\n",
      "2016-06     742\n",
      "2017-04     733\n",
      "2016-08     693\n",
      "2016-04     635\n",
      "2015-10     631\n",
      "2014-08     609\n",
      "2015-08     598\n",
      "2017-01     597\n",
      "2014-03     585\n",
      "2016-03     579\n",
      "2015-05     575\n",
      "2014-10     573\n",
      "2015-07     557\n",
      "2014-07     550\n",
      "2015-04     543\n",
      "2014-04     536\n",
      "2014-06     521\n",
      "2015-03     515\n",
      "2015-06     486\n",
      "2014-05     466\n",
      "2017-02     363\n",
      "2016-01     358\n",
      "2016-02     306\n",
      "2014-01     284\n",
      "2015-02     239\n",
      "2015-01     236\n",
      "2014-02     159\n",
      "Freq: M, Name: Quantity, dtype: int64\n"
     ]
    }
   ],
   "source": [
    "# Vendas por mês\t\n",
    "vendas_por_mes = df.groupby(df['Order Date'].dt.to_period('M'))['Quantity'].sum().sort_values(ascending=False)\n",
    "print(vendas_por_mes)"
   ]
  },
  {
   "cell_type": "code",
   "execution_count": 52,
   "metadata": {},
   "outputs": [
    {
     "name": "stdout",
     "output_type": "stream",
     "text": [
      "Order Date\n",
      "2017    12476\n",
      "2016     9837\n",
      "2015     7979\n",
      "2014     7581\n",
      "Freq: Y-DEC, Name: Quantity, dtype: int64\n"
     ]
    }
   ],
   "source": [
    "# Vendas por ano\n",
    "vendas_por_ano = df.groupby(df['Order Date'].dt.to_period('Y'))['Quantity'].sum().sort_values(ascending=False)\n",
    "print(vendas_por_ano)"
   ]
  },
  {
   "cell_type": "code",
   "execution_count": 75,
   "metadata": {},
   "outputs": [
    {
     "name": "stdout",
     "output_type": "stream",
     "text": [
      "Order Date\n",
      "2017Q4    4696\n",
      "2016Q4    3587\n",
      "2017Q3    3384\n",
      "2015Q4    3144\n",
      "2014Q4    2871\n",
      "2016Q3    2767\n",
      "2017Q2    2551\n",
      "2015Q3    2241\n",
      "2016Q2    2240\n",
      "2014Q3    2159\n",
      "2017Q1    1845\n",
      "2015Q2    1604\n",
      "2014Q2    1523\n",
      "2016Q1    1243\n",
      "2014Q1    1028\n",
      "2015Q1     990\n",
      "Freq: Q-DEC, Name: Quantity, dtype: int64\n"
     ]
    }
   ],
   "source": [
    "# Vendas por trimestre\n",
    "vendas_por_trimestre = df.groupby(df['Order Date'].dt.to_period('Q'))['Quantity'].sum().sort_values(ascending=False)\n",
    "print(vendas_por_trimestre)\n"
   ]
  },
  {
   "cell_type": "code",
   "execution_count": 63,
   "metadata": {},
   "outputs": [
    {
     "name": "stdout",
     "output_type": "stream",
     "text": [
      "Order Date\n",
      "2017    93439.77\n",
      "2016    81795.27\n",
      "2015    61618.69\n",
      "2014    49544.06\n",
      "Freq: Y-DEC, Name: Profit, dtype: float64\n"
     ]
    }
   ],
   "source": [
    "# Lucro por ano\n",
    "lucro_por_ano = df.groupby(df['Order Date'].dt.to_period('Y'))['Profit'].sum().sort_values(ascending=False)\n",
    "print(lucro_por_ano)"
   ]
  },
  {
   "cell_type": "code",
   "execution_count": 65,
   "metadata": {},
   "outputs": [
    {
     "name": "stdout",
     "output_type": "stream",
     "text": [
      "Category\n",
      "Technology         145455.66\n",
      "Office Supplies    122490.88\n",
      "Furniture           18451.25\n",
      "Name: Profit, dtype: float64\n"
     ]
    }
   ],
   "source": [
    "# Lucro por categoria\n",
    "lucro_por_categoria = df.groupby(df['Category'])['Profit'].sum().sort_values(ascending=False)\n",
    "print(lucro_por_categoria)"
   ]
  },
  {
   "cell_type": "code",
   "execution_count": 73,
   "metadata": {},
   "outputs": [
    {
     "data": {
      "image/png": "[encoded data removed]",
      "text/plain": [
       "<Figure size 1000x600 with 1 Axes>"
      ]
     },
     "metadata": {},
     "output_type": "display_data"
    }
   ],
   "source": [
    "# Gráfico de lucro por categoria\n",
    "plt.figure(figsize=(10, 6))\n",
    "plt.bar(lucro_por_categoria.index, lucro_por_categoria.values)\n",
    "plt.title('Lucro por categoria')\n",
    "plt.xlabel('Categorias')\n",
    "plt.ylabel('Lucro')\n",
    "plt.show()"
   ]
  },
  {
   "cell_type": "code",
   "execution_count": 98,
   "metadata": {},
   "outputs": [
    {
     "data": {
      "image/png": "[encoded data removed]",
      "text/plain": [
       "<Figure size 1000x600 with 1 Axes>"
      ]
     },
     "metadata": {},
     "output_type": "display_data"
    }
   ],
   "source": [
    "#Gráfico do lucro por ano\n",
    "plt.figure(figsize=(10, 6))\n",
    "sns.barplot(x=lucro_por_ano.index, y=lucro_por_ano.values, palette='pastel', hue=lucro_por_ano.values)\n",
    "plt.title('Lucro por ano')\n",
    "plt.xlabel('Ano')\n",
    "plt.ylabel('Lucro')\n",
    "plt.show();"
   ]
  },
  {
   "cell_type": "code",
   "execution_count": 96,
   "metadata": {},
   "outputs": [
    {
     "data": {
      "image/png": "[encoded data removed]",
      "text/plain": [
       "<Figure size 1000x600 with 1 Axes>"
      ]
     },
     "metadata": {},
     "output_type": "display_data"
    }
   ],
   "source": [
    "# Gráfico de vendas por trimestre anual\n",
    "plt.figure(figsize=(10, 6))\n",
    "sns.barplot(x=vendas_por_ano.index, y=vendas_por_ano.values, palette='pastel', hue=vendas_por_ano.values)\n",
    "plt.title('Vendas por ano')\n",
    "plt.xlabel('Ano')\n",
    "plt.ylabel('Vendas')\n",
    "plt.xticks(rotation=45)\n",
    "plt.tight_layout()\n",
    "plt.show()"
   ]
  },
  {
   "cell_type": "markdown",
   "metadata": {},
   "source": [
    "### Modelo de previsão das vendas"
   ]
  },
  {
   "cell_type": "code",
   "execution_count": null,
   "metadata": {},
   "outputs": [],
   "source": []
  }
 ],
 "metadata": {
  "kernelspec": {
   "display_name": "Python 3",
   "language": "python",
   "name": "python3"
  },
  "language_info": {
   "codemirror_mode": {
    "name": "ipython",
    "version": 3
   },
   "file_extension": ".py",
   "mimetype": "text/x-python",
   "name": "python",
   "nbconvert_exporter": "python",
   "pygments_lexer": "ipython3",
   "version": "3.12.4"
  }
 },
 "nbformat": 4,
 "nbformat_minor": 2
}
